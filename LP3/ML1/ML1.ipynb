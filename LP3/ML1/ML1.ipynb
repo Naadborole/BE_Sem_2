{
  "nbformat": 4,
  "nbformat_minor": 0,
  "metadata": {
    "colab": {
      "name": "ML1.ipynb",
      "provenance": [],
      "collapsed_sections": []
    },
    "kernelspec": {
      "name": "python3",
      "display_name": "Python 3"
    },
    "language_info": {
      "name": "python"
    }
  },
  "cells": [
    {
      "cell_type": "markdown",
      "source": [
        "#ASSIGNMENT 1\n",
        "\n",
        "The following table shows the results of a recently conducted study on the correlation of the number of hours spent driving with the risk of developing acute backache. Find the equation of the best fit line for this data\n",
        "\n",
        "| Number of hours spent driving (x)| Risk score on a scale of 0-100 (y) |\n",
        "|:-:|:-:|\n",
        "|10|95|\n",
        "|9|80|\n",
        "|2|10|\n",
        "|15|50|\n",
        "|10|45|\n",
        "|16|98|\n",
        "|11|38|\n",
        "|16|93|\n",
        "\n",
        "Name: Naad Prakash Borole <br/>\n",
        "Roll no: 41215"
      ],
      "metadata": {
        "id": "32b9iYbZpOyJ"
      }
    },
    {
      "cell_type": "code",
      "source": [
        "import numpy as np\n",
        "import matplotlib.pyplot as plt\n",
        "import seaborn as sns"
      ],
      "metadata": {
        "id": "1CZAIVmEwogp"
      },
      "execution_count": null,
      "outputs": []
    },
    {
      "cell_type": "code",
      "execution_count": null,
      "metadata": {
        "id": "81egbaF5pMY_"
      },
      "outputs": [],
      "source": [
        "X = [10,9,2,15,10,16,11,16]\n",
        "y = [95,80,10,50,45,98,38,93]"
      ]
    },
    {
      "cell_type": "code",
      "source": [
        "sns.scatterplot(X,y)"
      ],
      "metadata": {
        "colab": {
          "base_uri": "https://localhost:8080/",
          "height": 337
        },
        "id": "QF0YLyhpw9k9",
        "outputId": "7417d169-7b15-477a-ecbb-106c736f5ca4"
      },
      "execution_count": null,
      "outputs": [
        {
          "output_type": "stream",
          "name": "stderr",
          "text": [
            "/usr/local/lib/python3.7/dist-packages/seaborn/_decorators.py:43: FutureWarning: Pass the following variables as keyword args: x, y. From version 0.12, the only valid positional argument will be `data`, and passing other arguments without an explicit keyword will result in an error or misinterpretation.\n",
            "  FutureWarning\n"
          ]
        },
        {
          "output_type": "execute_result",
          "data": {
            "text/plain": [
              "<matplotlib.axes._subplots.AxesSubplot at 0x7f4eed2ba150>"
            ]
          },
          "metadata": {},
          "execution_count": 7
        },
        {
          "output_type": "display_data",
          "data": {
            "image/png": "[encoded data removed]",
            "text/plain": [
              "<Figure size 432x288 with 1 Axes>"
            ]
          },
          "metadata": {
            "needs_background": "light"
          }
        }
      ]
    },
    {
      "cell_type": "markdown",
      "source": [
        "## Equations of B and a are given by\n",
        "\n",
        "<h2>\n",
        "$Y = Bx + a$\n",
        "\n",
        "$B = \\frac{\\sum \\limits_{i=1}^n (x_{i}y_{i} - \\bar yx_{i})}{\\sum \\limits_{i=1}^n (x_{i}^{2} - \\bar x x_{i})}$\n",
        "\n",
        "$a = \\bar y - B\\bar x$\n",
        "\n",
        "</h2>"
      ],
      "metadata": {
        "id": "bf_9ZA0wyCkt"
      }
    },
    {
      "cell_type": "code",
      "source": [
        "y_bar = np.mean(y)\n",
        "x_bar = np.mean(X)"
      ],
      "metadata": {
        "id": "R57LKa48xBZk"
      },
      "execution_count": null,
      "outputs": []
    },
    {
      "cell_type": "code",
      "source": [
        "t1 = 0\n",
        "t2 = 0\n",
        "for i in range(len(y)):\n",
        "  t1 += X[i] *(y[i] - y_bar)\n",
        "  t2 += (X[i]**2 - x_bar*X[i])\n",
        "\n",
        "B = t1/t2\n",
        "a = y_bar - B*x_bar\n",
        "\n",
        "print(f'B : {B}')\n",
        "print(f'a : {a}')"
      ],
      "metadata": {
        "colab": {
          "base_uri": "https://localhost:8080/"
        },
        "id": "qM-flY3h0sUH",
        "outputId": "a20ab439-3662-43e9-dbbe-acadab1e78fa"
      },
      "execution_count": null,
      "outputs": [
        {
          "output_type": "stream",
          "name": "stdout",
          "text": [
            "B : 4.58789860997547\n",
            "a : 12.584627964022893\n"
          ]
        }
      ]
    },
    {
      "cell_type": "code",
      "source": [
        "ypreds = []\n",
        "for i in X:\n",
        "  ypreds.append(B*i + a)\n",
        "\n",
        "print(ypreds)"
      ],
      "metadata": {
        "colab": {
          "base_uri": "https://localhost:8080/"
        },
        "id": "NJ-QC8S41imu",
        "outputId": "5d050544-98fc-4fa0-b6ef-928b18f6ca24"
      },
      "execution_count": null,
      "outputs": [
        {
          "output_type": "stream",
          "name": "stdout",
          "text": [
            "[58.46361406377759, 53.87571545380212, 21.760425183973833, 81.40310711365495, 58.46361406377759, 85.99100572363042, 63.05151267375307, 85.99100572363042]\n"
          ]
        }
      ]
    },
    {
      "cell_type": "code",
      "source": [
        "fig, ax = plt.subplots()\n",
        "sns.scatterplot(X,y,ax=ax)\n",
        "sns.lineplot(X,ypreds,ax=ax)"
      ],
      "metadata": {
        "colab": {
          "base_uri": "https://localhost:8080/",
          "height": 372
        },
        "id": "VcJvseDc10mx",
        "outputId": "ec13070c-f6c6-44ab-b07d-ccd840640954"
      },
      "execution_count": null,
      "outputs": [
        {
          "output_type": "stream",
          "name": "stderr",
          "text": [
            "/usr/local/lib/python3.7/dist-packages/seaborn/_decorators.py:43: FutureWarning: Pass the following variables as keyword args: x, y. From version 0.12, the only valid positional argument will be `data`, and passing other arguments without an explicit keyword will result in an error or misinterpretation.\n",
            "  FutureWarning\n",
            "/usr/local/lib/python3.7/dist-packages/seaborn/_decorators.py:43: FutureWarning: Pass the following variables as keyword args: x, y. From version 0.12, the only valid positional argument will be `data`, and passing other arguments without an explicit keyword will result in an error or misinterpretation.\n",
            "  FutureWarning\n"
          ]
        },
        {
          "output_type": "execute_result",
          "data": {
            "text/plain": [
              "<matplotlib.axes._subplots.AxesSubplot at 0x7f4eed365090>"
            ]
          },
          "metadata": {},
          "execution_count": 12
        },
        {
          "output_type": "display_data",
          "data": {
            "image/png": "[encoded data removed]",
            "text/plain": [
              "<Figure size 432x288 with 1 Axes>"
            ]
          },
          "metadata": {
            "needs_background": "light"
          }
        }
      ]
    },
    {
      "cell_type": "code",
      "source": [
        ""
      ],
      "metadata": {
        "id": "WJG0SrxR2NIT"
      },
      "execution_count": null,
      "outputs": []
    }
  ]
}